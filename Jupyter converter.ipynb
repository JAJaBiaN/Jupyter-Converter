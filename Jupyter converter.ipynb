{
 "cells": [
  {
   "cell_type": "markdown",
   "metadata": {},
   "source": [
    "<h1>User input</h1>"
   ]
  },
  {
   "cell_type": "markdown",
   "metadata": {},
   "source": [
    "Please enter the filenames for the jupyter notebook to be converted and the python script to be output.\n",
    "\n",
    "<h4>Note: Please include file extensions</h4>"
   ]
  },
  {
   "cell_type": "code",
   "execution_count": 1,
   "metadata": {
    "collapsed": true
   },
   "outputs": [],
   "source": [
    "in_file = \".ipynb\"\n",
    "out_file = \".py\""
   ]
  },
  {
   "cell_type": "code",
   "execution_count": 2,
   "metadata": {
    "collapsed": true
   },
   "outputs": [],
   "source": [
    "import json\n",
    "import string"
   ]
  },
  {
   "cell_type": "code",
   "execution_count": 3,
   "metadata": {
    "collapsed": true
   },
   "outputs": [],
   "source": [
    "if len(in_file.strip('.ipynb')) > 0:\n",
    "    with open(in_file, \"r\") as f:\n",
    "        jupy_dict = json.load(f)\n",
    "else:\n",
    "    raise ValueError(\"No input file was specified\")"
   ]
  },
  {
   "cell_type": "code",
   "execution_count": 4,
   "metadata": {
    "collapsed": true
   },
   "outputs": [],
   "source": [
    "def comment_format(line):\n",
    "    # A line of #'s will be put above and below a h1 or h2 header\n",
    "    big_header_start = False\n",
    "    big_header_end = False\n",
    "    \n",
    "    # Search for headers in the line\n",
    "    count_h = line.count('h')\n",
    "    start = 0\n",
    "    i=0 # Make sure the loop stops during creation and testing\n",
    "    while count_h > 0 and i < 100:\n",
    "        i+=1\n",
    "        h_index = line.find('h', start)\n",
    "        if line[h_index - 1] == '<' and line[h_index + 1] in string.digits:\n",
    "            # Make headings look more obvious by using more #'s\n",
    "            line_add = '##'\n",
    "            if int(line[h_index + 1]) <= 2:\n",
    "                big_header_start = True\n",
    "                line_add = '####'\n",
    "            \n",
    "            label_end = line.find('>', h_index)+1\n",
    "            line = line.replace(line[h_index-1:label_end], line_add+' ')\n",
    "            count_h-=1\n",
    "        elif line[h_index-2:h_index] == '</' and line[h_index + 1] in string.digits:\n",
    "            # Same again but the else has the line of #'s underneath\n",
    "            line_add = '##'\n",
    "            if int(line[h_index + 1]) <= 2:\n",
    "                big_header_end = True\n",
    "                line_add = '####'\n",
    "            \n",
    "            label_end = line.find('>', h_index)+1\n",
    "            line = line.replace(line[h_index-2:label_end], ' '+line_add)\n",
    "            count_h-=1\n",
    "            \n",
    "        else:\n",
    "            start = h_index+1\n",
    "    \n",
    "    # Add the line of #'s for big headers\n",
    "    length = len(line)\n",
    "    if big_header_start:\n",
    "        line = '#'*length+'\\n'+line\n",
    "    if big_header_end:\n",
    "        line = line+'\\n'+'#'*length+'\\n'\n",
    "    \n",
    "    if (not big_header_start) and (not big_header_end):\n",
    "        line = '##'+line+'##\\n'\n",
    "    \n",
    "    return line"
   ]
  },
  {
   "cell_type": "code",
   "execution_count": 8,
   "metadata": {},
   "outputs": [
    {
     "name": "stdout",
     "output_type": "stream",
     "text": [
      "###################\n",
      "#### Big title ####\n",
      "###################\n",
      "\n",
      "##Standard markdown, nothing special##\n",
      "\n",
      "#### Not-so big title ####\n",
      "\n",
      "##########################\n",
      "#### Header with h's! ####\n",
      "##########################\n",
      "\n"
     ]
    }
   ],
   "source": [
    "\"\"\"This cell shows formats for various types of header\"\"\"\n",
    "# print(comment_format('<h2>Big title</h2>'))\n",
    "# print(comment_format('Standard markdown, nothing special'))\n",
    "# print(comment_format('<h3>Not-so big title</h3>'))\n",
    "# print(comment_format('<h1>Header with h\\'s!</h1>'))"
   ]
  },
  {
   "cell_type": "code",
   "execution_count": 5,
   "metadata": {
    "collapsed": true
   },
   "outputs": [],
   "source": [
    "if len(out_file.strip('.py')) > 0:\n",
    "    with open(out_file, \"w\") as wf:\n",
    "        for cell in jupy_dict[\"cells\"]:\n",
    "                if cell['cell_type']=='code':\n",
    "                    for line in cell['source']:\n",
    "                        wf.write(line)\n",
    "                    wf.write('\\n\\n')\n",
    "                elif cell['cell_type']=='markdown':\n",
    "                    # Add an empty line for emphasis\n",
    "                    wf.write('\\n')\n",
    "\n",
    "                    # Write the markdown\n",
    "                    if len(cell['source'])>3:\n",
    "                        wf.write('\"\"\"\\n'),\n",
    "                        for line in cell['source']:\n",
    "                            wf.write(comment_format(line))\n",
    "                        wf.write('\"\"\"\\n')\n",
    "                    else:\n",
    "                        for line in cell['source']:\n",
    "                            wf.write(comment_format(line))\n",
    "else:\n",
    "    raise ValueError(\"No output file was specified\")"
   ]
  }
 ],
 "metadata": {
  "kernelspec": {
   "display_name": "Python 3",
   "language": "python",
   "name": "python3"
  },
  "language_info": {
   "codemirror_mode": {
    "name": "ipython",
    "version": 3
   },
   "file_extension": ".py",
   "mimetype": "text/x-python",
   "name": "python",
   "nbconvert_exporter": "python",
   "pygments_lexer": "ipython3",
   "version": "3.6.1"
  }
 },
 "nbformat": 4,
 "nbformat_minor": 2
}
